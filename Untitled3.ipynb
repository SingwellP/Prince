{
  "nbformat": 4,
  "nbformat_minor": 0,
  "metadata": {
    "colab": {
      "provenance": [],
      "authorship_tag": "ABX9TyNC7SCSLOvYFF9dwKWU0nv3",
      "include_colab_link": true
    },
    "kernelspec": {
      "name": "python3",
      "display_name": "Python 3"
    },
    "language_info": {
      "name": "python"
    }
  },
  "cells": [
    {
      "cell_type": "markdown",
      "metadata": {
        "id": "view-in-github",
        "colab_type": "text"
      },
      "source": [
        "<a href=\"https://colab.research.google.com/github/SingwellP/Prince/blob/main/Untitled3.ipynb\" target=\"_parent\"><img src=\"https://colab.research.google.com/assets/colab-badge.svg\" alt=\"Open In Colab\"/></a>"
      ]
    },
    {
      "cell_type": "code",
      "execution_count": 43,
      "metadata": {
        "colab": {
          "base_uri": "https://localhost:8080/"
        },
        "id": "Qr-JWInNoVLk",
        "outputId": "18db6374-c6f0-4286-fbba-ca3ff60928ca"
      },
      "outputs": [
        {
          "output_type": "stream",
          "name": "stdout",
          "text": [
            "I eat sadza and meat\n",
            "I work so hard to say\n",
            "I can code too\n",
            "1\n",
            "Ally\n",
            "adidas\n",
            "My name is Ally and I have a ball cllled adidas\n"
          ]
        }
      ],
      "source": [
        "class Human:\n",
        "\n",
        "  def __init__(self, num_ball):\n",
        "    self.number_eyes=1\n",
        "    self.number_of_nose=2\n",
        "    self.num_ball=num_ball\n",
        "\n",
        "  def work(self):\n",
        "      print('I work so hard to say')\n",
        "\n",
        "  def eat(self):\n",
        "      print('I eat sadza and meat')\n",
        "\n",
        "class Male(Human):\n",
        "\n",
        "  def __init__(self, name,num_ball):\n",
        "       super().__init__(num_ball)\n",
        "       self.name=name\n",
        "\n",
        "  def display(self):\n",
        "           print(f'My name is {self.name} and I have a ball cllled {self.num_ball}')\n",
        "\n",
        "\n",
        "  def cry(self):\n",
        "        print ('I can cry she said')\n",
        "\n",
        "  def work(self):\n",
        "        super().work()\n",
        "        print('I can code too')\n",
        "\n",
        "\n",
        "male_1 = Male('Ally','adidas')\n",
        "male_1.eat()\n",
        "male_1.work()\n",
        "print(male_1.number_eyes)\n",
        "print(male_1.name)\n",
        "print(male_1.num_ball)\n",
        "male_1.display()\n",
        "\n",
        "\n",
        "\n",
        "\n",
        "\n",
        "\n",
        "\n"
      ]
    }
  ]
}